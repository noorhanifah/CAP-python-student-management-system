{
  "nbformat": 4,
  "nbformat_minor": 0,
  "metadata": {
    "colab": {
      "name": "TrainingPart1.ipynb",
      "provenance": [],
      "collapsed_sections": [],
      "authorship_tag": "ABX9TyOVCcxTmTvE/Q+ltcnH8O9e",
      "include_colab_link": true
    },
    "kernelspec": {
      "name": "python3",
      "display_name": "Python 3"
    },
    "language_info": {
      "name": "python"
    }
  },
  "cells": [
    {
      "cell_type": "markdown",
      "metadata": {
        "id": "view-in-github",
        "colab_type": "text"
      },
      "source": [
        "<a href=\"https://colab.research.google.com/github/noorhanifah/CAP-python-student-management-system/blob/main/TrainingPart1.ipynb\" target=\"_parent\"><img src=\"https://colab.research.google.com/assets/colab-badge.svg\" alt=\"Open In Colab\"/></a>"
      ]
    },
    {
      "cell_type": "code",
      "metadata": {
        "id": "OlI49h5yOa-9"
      },
      "source": [
        "#Add comment that wont be read\n",
        "'''Add multiple line of comment \n",
        "Comment line 2\n",
        "Comment line 3\n",
        "Comment line 4 '''\n",
        "#Add comment "
      ],
      "execution_count": null,
      "outputs": []
    },
    {
      "cell_type": "code",
      "metadata": {
        "colab": {
          "base_uri": "https://localhost:8080/"
        },
        "id": "lnOh_TFVlIpN",
        "outputId": "8ce9cd62-ab6c-47f1-b250-c223de2a5769"
      },
      "source": [
        "#First Python Hello World programme \n",
        "# print() function \n",
        "# used to print on a stream \n",
        "\n",
        "print(\"Hello World\")\n",
        "print('Hello World')\n",
        "print ('Hello World')\n",
        "print(1220)\n",
        "''' the 'print ()' function with a space between the t and bracket is \n",
        "not recommended'''\n"
      ],
      "execution_count": null,
      "outputs": [
        {
          "output_type": "stream",
          "name": "stdout",
          "text": [
            "Hello World\n",
            "Hello World\n",
            "Hello World\n",
            "1220\n"
          ]
        }
      ]
    },
    {
      "cell_type": "code",
      "metadata": {
        "colab": {
          "base_uri": "https://localhost:8080/"
        },
        "id": "mX8qL7cmrqt2",
        "outputId": "a8e83be9-fd1a-4956-ecea-0cad525ec070"
      },
      "source": [
        "# Default parameter of print function \n",
        "#functionName? : will give docstring of the function \n",
        "#or help(functionName)\n",
        "\n",
        "print?\n",
        "help(print) \n",
        "print(\"First Line\") # print(\"First Line\", end='\\n'), the next function will be printed on the new line\n",
        "print(\"Sec Line\")\n",
        "\n",
        "print('First Line', end='\\t')   # \\t -->Tab Space  \\n -->new line \n",
        "print('Second Line')\n",
        "\n"
      ],
      "execution_count": null,
      "outputs": [
        {
          "output_type": "stream",
          "name": "stdout",
          "text": [
            "Help on built-in function print in module builtins:\n",
            "\n",
            "print(...)\n",
            "    print(value, ..., sep=' ', end='\\n', file=sys.stdout, flush=False)\n",
            "    \n",
            "    Prints the values to a stream, or to sys.stdout by default.\n",
            "    Optional keyword arguments:\n",
            "    file:  a file-like object (stream); defaults to the current sys.stdout.\n",
            "    sep:   string inserted between values, default a space.\n",
            "    end:   string appended after the last value, default a newline.\n",
            "    flush: whether to forcibly flush the stream.\n",
            "\n",
            "First Line\n",
            "Sec Line\n",
            "First Line\tSecond Line\n"
          ]
        }
      ]
    },
    {
      "cell_type": "code",
      "metadata": {
        "colab": {
          "base_uri": "https://localhost:8080/"
        },
        "id": "NF-vgCYfxVT9",
        "outputId": "182e1d85-8919-497a-e4ea-77a2e49a9724"
      },
      "source": [
        "# Print function can print multiple value seperated by the ','\n",
        "print('1st value','2nd Value', '3rd value')\n",
        "# the default parameter is print('1st value', '2nd value', '3rd value',sep=' ')\n",
        "print('1st value','2nd value','3rd value',sep='--->')\n",
        "print('1st value','2nd value','3rd value',sep='@@')"
      ],
      "execution_count": null,
      "outputs": [
        {
          "output_type": "stream",
          "name": "stdout",
          "text": [
            "1st value 2nd Value 3rd value\n",
            "1st value--->2nd value--->3rd value\n",
            "1st value@@2nd value@@3rd value\n"
          ]
        }
      ]
    },
    {
      "cell_type": "code",
      "metadata": {
        "colab": {
          "base_uri": "https://localhost:8080/"
        },
        "id": "GqnHe69hzRYz",
        "outputId": "d75ae7dc-c1e5-47ea-e296-b5a889400b03"
      },
      "source": [
        "#Python Numbers\n",
        "#Used Python as calculator \n",
        "\n",
        "print(3+3)\n",
        "print(10-12)\n",
        "print(10*55)\n",
        "print(72/2) #Division operator return value in float or decimal \n",
        "\n",
        "#Floor division, Always return an integer value (no decimal)\n",
        "print(72//2) #Floor division = //\n",
        "\n",
        "#Exponential operator = **\n",
        "print(2**10) #2 the power of 10\n",
        "print(2**2)\n",
        "print(78**78)\n",
        "\n",
        "#Modular operator % = used to give the remainder value instead the divison value \n",
        "print(17%2)\n"
      ],
      "execution_count": null,
      "outputs": [
        {
          "output_type": "stream",
          "name": "stdout",
          "text": [
            "6\n",
            "-2\n",
            "550\n",
            "36.0\n",
            "36\n",
            "1024\n",
            "4\n",
            "3831589812313461262138726500006414268147534037893115512325908939170687185145438579006950082195309705885134607990418665607337632973770507236843454464\n",
            "1\n"
          ]
        }
      ]
    },
    {
      "cell_type": "code",
      "metadata": {
        "colab": {
          "base_uri": "https://localhost:8080/"
        },
        "id": "P4FLzne77-oV",
        "outputId": "d2bba7fa-a8a1-4f7b-8f2a-e7651d6da180"
      },
      "source": [
        "#Operator precedence, which operator come first\n",
        "'''\n",
        "1. () Prenthesis\n",
        "2. ** Exponent \n",
        "3. * / // %\n",
        "4. + -\n",
        "'''\n",
        "print(50-5*2)\n",
        "print((50-5)*2)\n",
        "\n",
        "#Associativity \n",
        "print(4*7%3) #The left one will be evaluated first & the right one will be evaluated later \n",
        "\n",
        "#In case of exponent ** ---> right to left associativity \n",
        "print(4**2**2)"
      ],
      "execution_count": null,
      "outputs": [
        {
          "output_type": "stream",
          "name": "stdout",
          "text": [
            "40\n",
            "90\n",
            "1\n",
            "256\n"
          ]
        }
      ]
    },
    {
      "cell_type": "code",
      "metadata": {
        "colab": {
          "base_uri": "https://localhost:8080/"
        },
        "id": "71-WaY2ZFw72",
        "outputId": "d6b931a7-0b1f-4eba-bc20-3739280e0187"
      },
      "source": [
        "num1 = 20\n",
        "num2 = 30\n",
        "print (num1 + num2)\n"
      ],
      "execution_count": null,
      "outputs": [
        {
          "output_type": "stream",
          "name": "stdout",
          "text": [
            "50\n"
          ]
        }
      ]
    },
    {
      "cell_type": "code",
      "metadata": {
        "colab": {
          "base_uri": "https://localhost:8080/"
        },
        "id": "oOw29tKQIjPs",
        "outputId": "7d2bc3ed-8e97-4dcc-8537-c08812df8565"
      },
      "source": [
        "# Data types in Py\n",
        "# Py uses dynamic typing/ Dynamiclly type the program --> Can reassign variable to different data types\n",
        "\n",
        "a = 10\n",
        "print(a) \n",
        "\n",
        "a = 'str'\n",
        "print(a)\n",
        "\n",
        "# Int data type \n",
        "intValue = 10\n",
        "print(intValue)\n",
        "\n",
        "# type() ---> used to check the data types of the variable \n",
        "\n",
        "type(intValue)\n",
        "\n",
        "# float data type (float = decimal)\n",
        "aValue = 90.123\n",
        "print(type(aValue), aValue)\n",
        "\n",
        "# string data type\n",
        "newValue = \"Python\"\n",
        "print(type(newValue), newValue)\n",
        "\n",
        "# boolean data type ---> contains true or false as value \n",
        "datatype = True \n",
        "print(type(datatype))"
      ],
      "execution_count": null,
      "outputs": [
        {
          "output_type": "stream",
          "name": "stdout",
          "text": [
            "10\n",
            "str\n",
            "10\n",
            "<class 'float'> 90.123\n",
            "<class 'str'> Python\n",
            "<class 'bool'>\n"
          ]
        }
      ]
    },
    {
      "cell_type": "code",
      "metadata": {
        "colab": {
          "base_uri": "https://localhost:8080/"
        },
        "id": "8o0GLfryMksX",
        "outputId": "1d594e6d-a0a8-4d7a-9150-6223fb3ded4e"
      },
      "source": [
        "# Strings in Python \n",
        "str1 = \"A VALUE\"\n",
        "str2 = 'A VALUE'\n",
        "print(type(str1), type(str2))"
      ],
      "execution_count": null,
      "outputs": [
        {
          "output_type": "stream",
          "name": "stdout",
          "text": [
            "<class 'str'> <class 'str'>\n"
          ]
        }
      ]
    },
    {
      "cell_type": "code",
      "metadata": {
        "colab": {
          "base_uri": "https://localhost:8080/"
        },
        "id": "3INtt6PyNEe6",
        "outputId": "bea195c7-bc37-4428-cc17-9b1df23e536c"
      },
      "source": [
        "course = 'PythonProgramming'\n",
        "# P y t h o n P r o g r  a  m  m  i  n  g\n",
        "# 0 1 2 3 4 5 6 7 8 9 10 11 12 13 14 15 16 \n",
        "# It is call as indexing \n",
        "# Indexing ---> allows user to grab a single chrac from a string \n",
        "# indexing uses [] notation \n",
        " \n",
        "print(course [6])\n",
        "print(course [13])"
      ],
      "execution_count": null,
      "outputs": [
        {
          "output_type": "stream",
          "name": "stdout",
          "text": [
            "P\n",
            "m\n"
          ]
        }
      ]
    },
    {
      "cell_type": "code",
      "metadata": {
        "colab": {
          "base_uri": "https://localhost:8080/"
        },
        "id": "sF5_S49mOW_A",
        "outputId": "0664722c-5ada-425a-f161-69861dd1c98c"
      },
      "source": [
        "# Slicing in Str\n",
        "course = 'PythonProgramming'\n",
        "# P y t h o n P r o g r  a  m  m  i  n  g\n",
        "# 0 1 2 3 4 5 6 7 8 9 10 11 12 13 14 15 16 \n",
        "#                     -7 -6 -5 -4 -3 -2 -1 (-ive slicing num) \n",
        "\n",
        "# slicing ---> allows user to grab portion or sub portion of a string \n",
        "# the syntax is ---> varname[startIndex:stopIndex:stepCount] \n",
        "# startIndex ---> numeric index from where thw slicing starts [INCLUSIVE]\n",
        "# stopIndex ---> numeric index where the slicing ends [EXCLUSIVE]\n",
        "# stepCount --->\n",
        "\n",
        "print(course[6:16])\n",
        "# letter num 6 is included, letter num 16 is excluded \n",
        "\n",
        "print(course[6:17])\n",
        "# letter num 6 is included, letter num 17 is excluded \n",
        "\n",
        "#mming \n",
        "print(course[12:17])\n",
        "\n",
        "# not describe the startIndex Py will count from 0 (the beginning)\n",
        "print(course[:6])\n",
        "\n",
        "# not describe the stopIndex Py will count till the last value (the end)\n",
        "print(course[6:])\n",
        "\n",
        "# negative slicing \n",
        "print(course[-1])\n",
        "\n",
        "# stepCount ---> not printing the numbered character \n",
        "print(course[::2])\n",
        "print(course[::4])\n",
        "\n",
        "# reverse of a string ---> string printed in reversed character \n",
        "print(course[::-1])\n"
      ],
      "execution_count": null,
      "outputs": [
        {
          "output_type": "stream",
          "name": "stdout",
          "text": [
            "Programmin\n",
            "Programming\n",
            "mming\n",
            "Python\n",
            "Programming\n",
            "g\n",
            "PtoPormig\n",
            "Poomg\n",
            "gnimmargorPnohtyP\n"
          ]
        }
      ]
    },
    {
      "cell_type": "code",
      "metadata": {
        "colab": {
          "base_uri": "https://localhost:8080/"
        },
        "id": "NUFq_4JhJkdm",
        "outputId": "d6968362-1f8a-4798-9a8c-c9355099190b"
      },
      "source": [
        "# escape charac sequences \n",
        "# print('I didn't do that') ---> will print an error as Py can't read bcs of confusion \n",
        "print('I didn\\'t do that') # use '\\' as solution not '/' \n",
        "# print('I didn/'t do that) ---> will print an error \n",
        "print(\"Welcome to \\\"Kaki\\\" Code\")\n"
      ],
      "execution_count": null,
      "outputs": [
        {
          "output_type": "stream",
          "name": "stdout",
          "text": [
            "I didn't do that\n",
            "Welcome to \"Kaki\" Code\n"
          ]
        }
      ]
    },
    {
      "cell_type": "code",
      "metadata": {
        "id": "BsiC0ZKDLvsS",
        "colab": {
          "base_uri": "https://localhost:8080/"
        },
        "outputId": "70371219-152f-401d-b09f-36e813372b5d"
      },
      "source": [
        "# Raw string ---> discards the meaning of \\n & \\t\n",
        "print('c:\\newFolder\\test') # \\n ---> new line \\t---> tab space \n",
        "\n",
        "print(r'c:\\newFolder\\test')"
      ],
      "execution_count": 1,
      "outputs": [
        {
          "output_type": "stream",
          "name": "stdout",
          "text": [
            "c:\n",
            "ewFolder\test\n",
            "c:\\newFolder\\test\n"
          ]
        }
      ]
    },
    {
      "cell_type": "code",
      "metadata": {
        "colab": {
          "base_uri": "https://localhost:8080/"
        },
        "id": "shdbbCfpq6Jx",
        "outputId": "42fb3244-2c23-43a5-ef62-b29b65b0eb57"
      },
      "source": [
        "print('Tempearature:')\n",
        "print('\\n')\n",
        "print('\\t Kuala Lumpur : 27 degree')\n",
        "print('\\t New Delhi    : 16 degree')\n",
        "print('\\n')\n",
        "print('Suhu:')\n",
        "print('\\n')\n",
        "print('\\t Sabah    : 16 C')\n",
        "print('\\t Selangor : 30 C')\n"
      ],
      "execution_count": 11,
      "outputs": [
        {
          "output_type": "stream",
          "name": "stdout",
          "text": [
            "Tempearature:\n",
            "\n",
            "\n",
            "\t Kuala Lumpur : 27 degree\n",
            "\t New Delhi    : 16 degree\n",
            "\n",
            "\n",
            "Suhu:\n",
            "\n",
            "\n",
            "\t Sabah    : 16 C\n",
            "\t Selangor : 30 C\n"
          ]
        }
      ]
    },
    {
      "cell_type": "code",
      "metadata": {
        "colab": {
          "base_uri": "https://localhost:8080/"
        },
        "id": "ztQg5Tags_kG",
        "outputId": "30ec14f1-c07a-4221-f18d-6bc93837f697"
      },
      "source": [
        "# Py strings can be declared using triple quotes to preserved the text formating \n",
        "\n",
        "print('''\n",
        "Temeprature :\n",
        "\n",
        "      Kuala Lumpur : 27 Degree \n",
        "      New Delhi    : 16 Degree \n",
        "''')\n",
        "print('''\n",
        "Suhu : \n",
        "\n",
        "      Sabah    : 16 C\n",
        "      Selangor : 30 C ''')"
      ],
      "execution_count": 17,
      "outputs": [
        {
          "output_type": "stream",
          "name": "stdout",
          "text": [
            "\n",
            "Temeprature :\n",
            "\n",
            "      Kuala Lumpur : 27 Degree \n",
            "      New Delhi    : 16 Degree \n",
            "\n",
            "\n",
            "Suhu : \n",
            "\n",
            "      Sabah    : 16 C\n",
            "      Selangor : 30 C \n"
          ]
        }
      ]
    },
    {
      "cell_type": "code",
      "metadata": {
        "colab": {
          "base_uri": "https://localhost:8080/"
        },
        "id": "VqF_RvCIuIrg",
        "outputId": "62838a2c-b3d1-4b86-9c97-50edf9a33734"
      },
      "source": [
        "# string concatenation ---> combining 2 strings together \n",
        "\n",
        "firstname= 'Mimi'\n",
        "lastname= 'Aina'\n",
        "course= 'Python'\n",
        "fees = 1500\n",
        "\n",
        "# print 'Welcome Mimi Aina to the world of Python'\n",
        "print('Welcome '+firstname)\n",
        "print('Welcome ' +firstname+' '+lastname)\n",
        "print('Welcome ' + firstname + ' ' + lastname + ' ' + 'to the world of ' + course)\n",
        "print('Welcome '+firstname+' '+lastname+' '+'to the world of'+' '+course)\n",
        "\n",
        "#in string concatenation the '+' operator requires value on the left and right as string\n",
        "#print('Welcome '+firstname+' '+lastname+' '+'to the world of'+' '+course+'Fees will be'+fees), will give an error as the 'fees' is not string\n",
        "#so the solution is Type Casting ---> str()\n",
        "print('\\n')\n",
        "print('Welcome '+firstname+' '+lastname+' '+'to the world of'+' '+course+' Fess will be '+str(fees))\n",
        "print('\\n')\n",
        "#or\n",
        "print('Welcome',firstname,lastname,'to the world of',course,'fees will be',fees)\n"
      ],
      "execution_count": 34,
      "outputs": [
        {
          "output_type": "stream",
          "name": "stdout",
          "text": [
            "Welcome Mimi\n",
            "Welcome Mimi Aina\n",
            "Welcome Mimi Aina to the world of Python\n",
            "Welcome Mimi Aina to the world of Python\n",
            "\n",
            "\n",
            "Welcome Mimi Aina to the world of Python Fess will be 1500\n",
            "\n",
            "\n",
            "Welcome Mimi Aina to the world of Python fees will be 1500\n"
          ]
        }
      ]
    },
    {
      "cell_type": "code",
      "metadata": {
        "colab": {
          "base_uri": "https://localhost:8080/"
        },
        "id": "zXKrpd3Of1eS",
        "outputId": "5ae70e1c-aaac-466d-e743-d06df58e3e66"
      },
      "source": [
        "# String formatting \n",
        "# str.format()\n",
        "\n",
        "# 1. default_order = \"{} {} {}\".format(value), the value will be printed in {}\n",
        "default_order = \"{} {} {} {}.\".format('Python','is','very','easy')\n",
        "print(default_order)\n",
        "\n",
        "print('\\n')\n",
        "\n",
        "# 2. positional_order\n",
        "positional_order = \"{2} {0} {1}\".format(\"is\",\"easy\",\"Python\")\n",
        "print(positional_order)\n",
        "# basically say print the str num 2 then 0 then 1\n",
        "\n",
        "print('\\n')\n",
        "\n",
        "# 3. keyword_order\n",
        "keyword_order = \"{m} {k}\".format(m='Malaysia',k='KualaLumpur')\n",
        "print(keyword_order)\n",
        "keyword_order = \"{k} is in {m}\".format(m='Malaysia',k='Kuala Lumpur')\n",
        "print(keyword_order)\n"
      ],
      "execution_count": 33,
      "outputs": [
        {
          "output_type": "stream",
          "name": "stdout",
          "text": [
            "Python is very easy.\n",
            "\n",
            "\n",
            "Python is easy\n",
            "\n",
            "\n",
            "Malaysia KualaLumpur\n",
            "Kuala Lumpur is in Malaysia\n"
          ]
        }
      ]
    },
    {
      "cell_type": "code",
      "metadata": {
        "colab": {
          "base_uri": "https://localhost:8080/"
        },
        "id": "_c5PqGegwF7_",
        "outputId": "fd5ac4a3-9c92-44f6-a656-a4afd6f9ed70"
      },
      "source": [
        "# type conversion or type casting \n",
        "# implicit type casting \n",
        "\n",
        "value1=10\n",
        "value2=67.43\n",
        "res = value1 + value2  #10.0 + 67.43\n",
        "print(res)\n",
        "# Py always convert smaller data types to larger data type \n",
        "\n",
        "print('\\n')\n",
        "\n",
        "# explicit type casting \n",
        "value1=123\n",
        "value2=\"456\"\n",
        "# res = value1 + value2 \n",
        "# print(res) will give error \n",
        "\n",
        "res = value1 + int(value2)\n",
        "print(res)\n"
      ],
      "execution_count": 32,
      "outputs": [
        {
          "output_type": "stream",
          "name": "stdout",
          "text": [
            "77.43\n",
            "\n",
            "\n",
            "579\n"
          ]
        }
      ]
    },
    {
      "cell_type": "code",
      "metadata": {
        "colab": {
          "base_uri": "https://localhost:8080/"
        },
        "id": "b25zR0xWzQW6",
        "outputId": "cf8c1f6e-e93e-4982-aea7-f059bff575d7"
      },
      "source": [
        "# Taking user Input\n",
        "# input() ---> help to take user Input\n",
        "\n",
        "name = input('Enter Your Name : ')\n",
        "print('Welcome ', name)\n",
        "print('\\n')\n",
        "name = input('Enter Your Name : ')\n",
        "age = input('Enter Your Age : ')\n",
        "print('Welcome ', name, age)"
      ],
      "execution_count": 36,
      "outputs": [
        {
          "output_type": "stream",
          "name": "stdout",
          "text": [
            "Enter Your Name : Ani\n",
            "Welcome  Ani\n",
            "\n",
            "\n",
            "Enter Your Name : Dahyun\n",
            "Enter Your Age : 23\n",
            "Welcome  Dahyun 23\n"
          ]
        }
      ]
    },
    {
      "cell_type": "code",
      "metadata": {
        "colab": {
          "base_uri": "https://localhost:8080/"
        },
        "id": "s6Yg6Py70dPo",
        "outputId": "a57440ae-d269-47c3-8d3a-e07e86c3369a"
      },
      "source": [
        "# input function treat the value as string \n",
        "num1 = input('Enter First Value : ')\n",
        "num2 = input('Enter Second Value : ')\n",
        "add = num1 + num2\n",
        "print('Result :', add)\n",
        "\n",
        "print('\\n')\n",
        "num1 = int(input('Enter First Value : '))  # perform type casting\n",
        "num2 = int(input('Enter Second Value : '))\n",
        "add = num1 + num2\n",
        "print('Result: ', add)\n"
      ],
      "execution_count": 39,
      "outputs": [
        {
          "output_type": "stream",
          "name": "stdout",
          "text": [
            "Enter First Value : 100\n",
            "Enter Second Value : 200\n",
            "Result : 100200\n",
            "\n",
            "\n",
            "Enter First Value : 100\n",
            "Enter Second Value : 200\n",
            "Result:  300\n"
          ]
        }
      ]
    }
  ]
}